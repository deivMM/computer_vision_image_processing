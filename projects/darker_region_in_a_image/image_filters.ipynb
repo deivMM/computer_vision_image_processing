{
 "cells": [
  {
   "cell_type": "code",
   "execution_count": 5,
   "metadata": {},
   "outputs": [],
   "source": [
    "import os\n",
    "import cv2\n",
    "import numpy as np\n",
    "import matplotlib.pyplot as plt"
   ]
  },
  {
   "cell_type": "code",
   "execution_count": 18,
   "metadata": {},
   "outputs": [],
   "source": [
    "img = cv2.imread('data/image_1.png')\n",
    "cv2.imshow('imagen', img)\n",
    "cv2.waitKey(0)\n",
    "cv2.destroyAllWindows()"
   ]
  },
  {
   "cell_type": "code",
   "execution_count": 8,
   "metadata": {},
   "outputs": [],
   "source": [
    "# Filtro de Desenfoque (Blur)\n",
    "blurred = cv2.blur(img, (5, 5))\n",
    "cv2.imshow('Blurred Image', blurred)\n",
    "cv2.waitKey(0)\n",
    "cv2.destroyAllWindows()"
   ]
  },
  {
   "cell_type": "code",
   "execution_count": 12,
   "metadata": {},
   "outputs": [],
   "source": [
    "# Filtro Gaussiano\n",
    "gaussian_blur = cv2.GaussianBlur(img, (5, 5), 0)\n",
    "cv2.imshow('Gaussian Blur Image', gaussian_blur)\n",
    "cv2.waitKey(0)\n",
    "cv2.destroyAllWindows()"
   ]
  },
  {
   "cell_type": "code",
   "execution_count": 13,
   "metadata": {},
   "outputs": [],
   "source": [
    "# Filtro de Mediana\n",
    "median = cv2.medianBlur(img, 5)\n",
    "cv2.imshow('Median Blur Image', median)\n",
    "cv2.waitKey(0)\n",
    "cv2.destroyAllWindows()"
   ]
  },
  {
   "cell_type": "code",
   "execution_count": 20,
   "metadata": {},
   "outputs": [],
   "source": [
    "# Filtro de Sobel (Detección de Bordes)\n",
    "sobel_x = cv2.Sobel(img, cv2.CV_64F, 1, 0, ksize=5) # Detección de bordes horizontales\n",
    "sobel_y = cv2.Sobel(img, cv2.CV_64F, 0, 1, ksize=5) # Detección de bordes verticales\n",
    "cv2.imshow('original', img)\n",
    "cv2.imshow('Sobel X', sobel_x)\n",
    "cv2.imshow('Sobel Y', sobel_y)\n",
    "cv2.waitKey(0)\n",
    "cv2.destroyAllWindows()"
   ]
  }
 ],
 "metadata": {
  "kernelspec": {
   "display_name": "base",
   "language": "python",
   "name": "python3"
  },
  "language_info": {
   "codemirror_mode": {
    "name": "ipython",
    "version": 3
   },
   "file_extension": ".py",
   "mimetype": "text/x-python",
   "name": "python",
   "nbconvert_exporter": "python",
   "pygments_lexer": "ipython3",
   "version": "3.11.5"
  }
 },
 "nbformat": 4,
 "nbformat_minor": 2
}
