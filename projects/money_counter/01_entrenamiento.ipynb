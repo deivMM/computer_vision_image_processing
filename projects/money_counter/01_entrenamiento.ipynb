{
 "cells": [
  {
   "cell_type": "code",
   "execution_count": 4,
   "metadata": {},
   "outputs": [],
   "source": [
    "import cv2\n",
    "import os\n",
    "import matplotlib.pyplot as plt\n",
    "import numpy as np\n",
    "import useful_functions as uf\n",
    "import pandas as pd\n",
    "\n",
    "from sklearn.model_selection import train_test_split\n",
    "from sklearn.preprocessing import LabelEncoder\n",
    "from sklearn.ensemble import RandomForestClassifier\n",
    "from sklearn.metrics import accuracy_score, classification_report"
   ]
  },
  {
   "cell_type": "code",
   "execution_count": 5,
   "metadata": {},
   "outputs": [
    {
     "name": "stdout",
     "output_type": "stream",
     "text": [
      "         id   h    s   v  radio\n",
      "0    tr_005  15  122  92     33\n",
      "1    tr_005  19  183  71     32\n",
      "2    tr_005  18  147  73     34\n",
      "3    tr_005  18  204  60     32\n",
      "4    tr_005  19  136  90     34\n",
      "..      ...  ..  ...  ..    ...\n",
      "493    tr_2  38   30  69     40\n",
      "494    tr_2  23   25  81     39\n",
      "495    tr_2  53   12  83     40\n",
      "496    tr_2  24   68  71     38\n",
      "497    tr_2  35   41  68     38\n",
      "\n",
      "[498 rows x 5 columns]\n"
     ]
    }
   ],
   "source": [
    "df = pd.read_csv('data_entrenamiento.csv')\n",
    "\n",
    "print(df)"
   ]
  },
  {
   "cell_type": "code",
   "execution_count": 6,
   "metadata": {},
   "outputs": [
    {
     "name": "stdout",
     "output_type": "stream",
     "text": [
      "Accuracy: 0.82\n",
      "              precision    recall  f1-score   support\n",
      "\n",
      "      tr_005       1.00      1.00      1.00        31\n",
      "       tr_01       0.98      0.91      0.94        45\n",
      "       tr_02       0.74      0.90      0.81        31\n",
      "       tr_05       0.70      0.70      0.70        33\n",
      "        tr_1       0.79      0.54      0.64        28\n",
      "        tr_2       0.70      0.81      0.75        32\n",
      "\n",
      "    accuracy                           0.82       200\n",
      "   macro avg       0.82      0.81      0.81       200\n",
      "weighted avg       0.83      0.82      0.82       200\n",
      "\n"
     ]
    },
    {
     "data": {
      "text/plain": [
       "['modelo_random_forest.joblib']"
      ]
     },
     "execution_count": 6,
     "metadata": {},
     "output_type": "execute_result"
    }
   ],
   "source": [
    "from joblib import dump\n",
    "\n",
    "# Convertir 'id' a valores numéricos\n",
    "label_encoder = LabelEncoder()\n",
    "df[\"id\"] = label_encoder.fit_transform(df[\"id\"])\n",
    "\n",
    "# Separar features y target\n",
    "X = df[[\"h\", \"s\", \"v\", \"radio\"]]\n",
    "y = df[\"id\"]\n",
    "\n",
    "# Dividir en conjunto de entrenamiento y prueba\n",
    "X_train, X_test, y_train, y_test = train_test_split(X, y, test_size=0.4, random_state=42)\n",
    "\n",
    "# Inicializar y entrenar modelo\n",
    "model = RandomForestClassifier(n_estimators=100, random_state=42)\n",
    "model.fit(X_train, y_train)\n",
    "\n",
    "# Predicciones\n",
    "y_pred = model.predict(X_test)\n",
    "\n",
    "# Evaluación\n",
    "print(\"Accuracy:\", accuracy_score(y_test, y_pred))\n",
    "print(classification_report(y_test, y_pred, target_names=label_encoder.classes_))\n",
    "\n",
    "\n",
    "dump(model, 'modelo_random_forest.joblib')\n"
   ]
  }
 ],
 "metadata": {
  "kernelspec": {
   "display_name": "Python 3",
   "language": "python",
   "name": "python3"
  },
  "language_info": {
   "codemirror_mode": {
    "name": "ipython",
    "version": 3
   },
   "file_extension": ".py",
   "mimetype": "text/x-python",
   "name": "python",
   "nbconvert_exporter": "python",
   "pygments_lexer": "ipython3",
   "version": "3.8.5"
  }
 },
 "nbformat": 4,
 "nbformat_minor": 2
}
