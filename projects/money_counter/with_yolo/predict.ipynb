{
 "cells": [
  {
   "cell_type": "code",
   "execution_count": 1,
   "metadata": {},
   "outputs": [],
   "source": [
    "from ultralytics import YOLO\n",
    "import cv2\n",
    "import os"
   ]
  },
  {
   "cell_type": "code",
   "execution_count": 2,
   "metadata": {},
   "outputs": [],
   "source": [
    "# Cargar el modelo entrenado\n",
    "# model = YOLO(\"modelos/train_best.pt\")\n",
    "model = YOLO(\"modelos/best_25_epoch.pt\")"
   ]
  },
  {
   "cell_type": "code",
   "execution_count": 3,
   "metadata": {},
   "outputs": [
    {
     "data": {
      "text/plain": [
       "['test_image_8.jpg',\n",
       " 'test_image_19.jpg',\n",
       " 'test_image_20.jpg',\n",
       " 'test_image_14.jpg',\n",
       " 'test_image_1.jpg']"
      ]
     },
     "execution_count": 3,
     "metadata": {},
     "output_type": "execute_result"
    }
   ],
   "source": [
    "images = [f for f in os.listdir(\"prediction_data\") if f.endswith(\".jpg\")]\n",
    "images"
   ]
  },
  {
   "cell_type": "code",
   "execution_count": 4,
   "metadata": {},
   "outputs": [
    {
     "name": "stdout",
     "output_type": "stream",
     "text": [
      "\n",
      "image 1/1 /Users/davidmarquezmonje/Library/Mobile Documents/com~apple~CloudDocs/coding/python/money_counter_yolo/prediction_data/test_image_8.jpg: 384x640 1 moneda_2, 3 moneda_050s, 128.8ms\n",
      "Speed: 4.2ms preprocess, 128.8ms inference, 1.0ms postprocess per image at shape (1, 3, 384, 640)\n",
      "\n",
      "image 1/1 /Users/davidmarquezmonje/Library/Mobile Documents/com~apple~CloudDocs/coding/python/money_counter_yolo/prediction_data/test_image_19.jpg: 384x640 1 moneda_1, 1 moneda_050, 2 moneda_020s, 121.6ms\n",
      "Speed: 7.1ms preprocess, 121.6ms inference, 1.0ms postprocess per image at shape (1, 3, 384, 640)\n",
      "\n",
      "image 1/1 /Users/davidmarquezmonje/Library/Mobile Documents/com~apple~CloudDocs/coding/python/money_counter_yolo/prediction_data/test_image_20.jpg: 384x640 4 moneda_050s, 3 moneda_020s, 191.9ms\n",
      "Speed: 9.4ms preprocess, 191.9ms inference, 1.1ms postprocess per image at shape (1, 3, 384, 640)\n",
      "\n",
      "image 1/1 /Users/davidmarquezmonje/Library/Mobile Documents/com~apple~CloudDocs/coding/python/money_counter_yolo/prediction_data/test_image_14.jpg: 384x640 5 moneda_2s, 1 moneda_1, 139.4ms\n",
      "Speed: 3.8ms preprocess, 139.4ms inference, 0.8ms postprocess per image at shape (1, 3, 384, 640)\n",
      "\n",
      "image 1/1 /Users/davidmarquezmonje/Library/Mobile Documents/com~apple~CloudDocs/coding/python/money_counter_yolo/prediction_data/test_image_1.jpg: 384x640 1 moneda_2, 1 moneda_1, 2 moneda_050s, 1 moneda_020, 2 moneda_005s, 151.0ms\n",
      "Speed: 4.4ms preprocess, 151.0ms inference, 1.6ms postprocess per image at shape (1, 3, 384, 640)\n"
     ]
    }
   ],
   "source": [
    "for im in images:\n",
    "    results = model(f\"prediction_data/{im}\")\n",
    "    for result in results:\n",
    "        # result.save(f\"prediction_data/pred_{im}\")\n",
    "        result.show()"
   ]
  }
 ],
 "metadata": {
  "kernelspec": {
   "display_name": "Python 3",
   "language": "python",
   "name": "python3"
  },
  "language_info": {
   "codemirror_mode": {
    "name": "ipython",
    "version": 3
   },
   "file_extension": ".py",
   "mimetype": "text/x-python",
   "name": "python",
   "nbconvert_exporter": "python",
   "pygments_lexer": "ipython3",
   "version": "3.8.5"
  }
 },
 "nbformat": 4,
 "nbformat_minor": 2
}
